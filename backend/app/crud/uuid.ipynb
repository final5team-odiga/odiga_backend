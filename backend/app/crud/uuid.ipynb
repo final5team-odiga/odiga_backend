{
 "cells": [
  {
   "cell_type": "code",
   "execution_count": 1,
   "id": "b1e00e9e",
   "metadata": {},
   "outputs": [
    {
     "name": "stdout",
     "output_type": "stream",
     "text": [
      "UUID 기반 코드: d704b950-8dad-4561-ab8f-af699571313e\n"
     ]
    }
   ],
   "source": [
    "import uuid\n",
    "\n",
    "def generate_uuid_code() -> str:\n",
    "    return str(uuid.uuid4())\n",
    "\n",
    "# 사용 예시\n",
    "code = generate_uuid_code()\n",
    "print(\"UUID 기반 코드:\", code)\n"
   ]
  }
 ],
 "metadata": {
  "kernelspec": {
   "display_name": "msaifinal",
   "language": "python",
   "name": "python3"
  },
  "language_info": {
   "codemirror_mode": {
    "name": "ipython",
    "version": 3
   },
   "file_extension": ".py",
   "mimetype": "text/x-python",
   "name": "python",
   "nbconvert_exporter": "python",
   "pygments_lexer": "ipython3",
   "version": "3.13.3"
  }
 },
 "nbformat": 4,
 "nbformat_minor": 5
}
